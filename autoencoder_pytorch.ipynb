{
 "cells": [
  {
   "cell_type": "code",
   "execution_count": 1,
   "metadata": {},
   "outputs": [],
   "source": [
    "%matplotlib inline"
   ]
  },
  {
   "cell_type": "code",
   "execution_count": 2,
   "metadata": {},
   "outputs": [],
   "source": [
    "import os\n",
    "import torch\n",
    "\n",
    "import torch.nn as nn\n",
    "import torch.nn.functional as F\n",
    "import numpy as np\n",
    "import matplotlib.pyplot as plt\n",
    "\n",
    "from torch.utils.data import DataLoader, TensorDataset\n",
    "from torchsummary import summary\n",
    "from sklearn.model_selection import train_test_split\n",
    "\n",
    "from data_generator import DataGen"
   ]
  },
  {
   "cell_type": "code",
   "execution_count": 3,
   "metadata": {},
   "outputs": [],
   "source": [
    "class Autoencoder(nn.Module):\n",
    "\n",
    "    def __init__(self, num_channel):\n",
    "        super().__init__()\n",
    "        self.conv1 = nn.Conv2d(in_channels=num_channel, out_channels=16, kernel_size=3, stride=2, padding=1)\n",
    "        self.conv1_tr = nn.ConvTranspose2d(in_channels=16, out_channels=1, kernel_size=2, stride=2, padding=1)\n",
    "\n",
    "        self.conv2 = nn.Conv2d(16, 8, 3, stride=2, padding=1)\n",
    "        self.conv2_tr = nn.ConvTranspose2d(8, 16, 3, stride=2)\n",
    "\n",
    "        self.conv3 = nn.Conv2d(8, 8, 3, stride=2, padding=1)\n",
    "        self.conv3_tr = nn.ConvTranspose2d(8, 8, 3, stride=2)\n",
    "\n",
    "        self.conv4 = nn.Conv2d(8, 8, 2, stride=2, padding=1)\n",
    "        self.conv4_tr = nn.ConvTranspose2d(8, 8, 2, stride=2, padding=1)\n",
    "\n",
    "        self.fc1 = nn.Linear(8*7*7, 128)\n",
    "        self.fc1_tr = nn.Linear(128, 8*7*7)\n",
    "\n",
    "        self.fc2 = nn.Linear(128, 3)\n",
    "        self.fc2_tr = nn.Linear(3, 128)\n",
    "\n",
    "    def encoder(self, x):\n",
    "        x = F.relu(self.conv1(x))\n",
    "        x = F.relu(self.conv2(x))\n",
    "        x = F.relu(self.conv3(x))\n",
    "        x = F.relu(self.conv4(x))\n",
    "        x = x.view(-1, 8 * 7 * 7)\n",
    "        x = F.relu(self.fc1(x))\n",
    "        x = self.fc2(x)\n",
    "        return x\n",
    "\n",
    "    def decoder(self, x):\n",
    "        x = F.relu(self.fc2_tr(x))\n",
    "        x = F.relu(self.fc1_tr(x))\n",
    "        x = x.view(-1, 8, 7, 7)\n",
    "        x = F.relu(self.conv4_tr(x))\n",
    "        x = F.relu(self.conv3_tr(x))\n",
    "        x = F.relu(self.conv2_tr(x))\n",
    "        x = F.sigmoid(self.conv1_tr(x))\n",
    "        return x\n",
    "\n",
    "    def forward(self, x):\n",
    "        x = self.encoder(x)\n",
    "        x = self.decoder(x)\n",
    "        return x"
   ]
  },
  {
   "cell_type": "code",
   "execution_count": 4,
   "metadata": {},
   "outputs": [],
   "source": [
    "def get_model(num_channel):\n",
    "    net = Autoencoder(num_channel=num_channel)\n",
    "    optimizer = torch.optim.Adam(net.parameters(), lr=0.001)\n",
    "    return net, optimizer"
   ]
  },
  {
   "cell_type": "code",
   "execution_count": 5,
   "metadata": {},
   "outputs": [],
   "source": [
    "def fit(net, optimizer, train_dl, test_dl, epochs=5):\n",
    "    loss_function = nn.BCELoss()\n",
    "    for epoch in range(epochs):\n",
    "        net.train()\n",
    "        for x, y in train_dl:\n",
    "            pred = net(x)\n",
    "            loss = loss_function(pred, y)\n",
    "\n",
    "            optimizer.zero_grad()\n",
    "            loss.backward()\n",
    "            optimizer.step()\n",
    "\n",
    "        net.eval()\n",
    "        with torch.no_grad():\n",
    "            test_loss = sum(loss_function(net(x), y) for x, y in test_dl)\n",
    "        print('epoch: {}/{} - train_loss: {:.4f} - test_loss: {:.4f}'.format(epoch + 1, epochs, loss, test_loss / len(test_dl)))"
   ]
  },
  {
   "cell_type": "code",
   "execution_count": 6,
   "metadata": {},
   "outputs": [],
   "source": [
    "def to_tensor(x):\n",
    "    return torch.from_numpy(x).float()\n",
    "\n",
    "\n",
    "def get_data(height, width, num_channel, path, size, bs):\n",
    "    dgen = DataGen(height, width, num_channel)\n",
    "    x, y = dgen.get_data(path, False, size, True)\n",
    "    print('Data loaded...\\nx:{}\\ty:{}\\n'.format(x.shape, y.shape))\n",
    "\n",
    "    x = x / 255.\n",
    "    y = y / 255.\n",
    "\n",
    "    x_train, x_test, y_train, y_test = train_test_split(x, y, test_size=0.1, shuffle=True)\n",
    "    x_train, x_test, y_train, y_test = map(to_tensor, (x_train, x_test, y_train, y_test))\n",
    "\n",
    "    train_ds = TensorDataset(x_train, y_train)\n",
    "    train_dl = DataLoader(train_ds, batch_size=bs, shuffle=True)\n",
    "\n",
    "    test_ds = TensorDataset(x_test, y_test)\n",
    "    test_dl = DataLoader(test_ds, batch_size=bs)\n",
    "    return train_dl, test_dl"
   ]
  },
  {
   "cell_type": "code",
   "execution_count": 7,
   "metadata": {},
   "outputs": [],
   "source": [
    "DATA_DIR = './data/data_simple_movement/cartesian/'\n",
    "HEIGHT = 100\n",
    "WIDTH = 100\n",
    "NUM_CHANNEL = 2"
   ]
  },
  {
   "cell_type": "code",
   "execution_count": 8,
   "metadata": {},
   "outputs": [
    {
     "name": "stdout",
     "output_type": "stream",
     "text": [
      "Data loaded...\n",
      "x:(96, 2, 100, 100)\ty:(96, 1, 100, 100)\n",
      "\n"
     ]
    },
    {
     "name": "stderr",
     "output_type": "stream",
     "text": [
      "C:\\Users\\ttanj\\Miniconda3\\envs\\dl\\lib\\site-packages\\torch\\nn\\functional.py:1332: UserWarning: nn.functional.sigmoid is deprecated. Use torch.sigmoid instead.\n",
      "  warnings.warn(\"nn.functional.sigmoid is deprecated. Use torch.sigmoid instead.\")\n"
     ]
    },
    {
     "name": "stdout",
     "output_type": "stream",
     "text": [
      "epoch: 1/100 - train_loss: 0.5924 - test_loss: 0.5910\n",
      "epoch: 2/100 - train_loss: 0.5778 - test_loss: 0.5761\n",
      "epoch: 3/100 - train_loss: 0.5517 - test_loss: 0.5451\n",
      "epoch: 4/100 - train_loss: 0.3772 - test_loss: 0.3403\n",
      "epoch: 5/100 - train_loss: 0.2559 - test_loss: 0.2447\n",
      "epoch: 6/100 - train_loss: 0.1766 - test_loss: 0.1759\n",
      "epoch: 7/100 - train_loss: 0.1437 - test_loss: 0.1434\n",
      "epoch: 8/100 - train_loss: 0.1261 - test_loss: 0.1258\n",
      "epoch: 9/100 - train_loss: 0.1144 - test_loss: 0.1138\n",
      "epoch: 10/100 - train_loss: 0.1017 - test_loss: 0.1018\n",
      "epoch: 11/100 - train_loss: 0.0912 - test_loss: 0.0907\n",
      "epoch: 12/100 - train_loss: 0.0807 - test_loss: 0.0802\n",
      "epoch: 13/100 - train_loss: 0.0722 - test_loss: 0.0720\n",
      "epoch: 14/100 - train_loss: 0.0665 - test_loss: 0.0659\n",
      "epoch: 15/100 - train_loss: 0.0607 - test_loss: 0.0611\n",
      "epoch: 16/100 - train_loss: 0.0574 - test_loss: 0.0570\n",
      "epoch: 17/100 - train_loss: 0.0543 - test_loss: 0.0534\n",
      "epoch: 18/100 - train_loss: 0.0498 - test_loss: 0.0503\n",
      "epoch: 19/100 - train_loss: 0.0480 - test_loss: 0.0474\n",
      "epoch: 20/100 - train_loss: 0.0450 - test_loss: 0.0446\n",
      "epoch: 21/100 - train_loss: 0.0432 - test_loss: 0.0416\n",
      "epoch: 22/100 - train_loss: 0.0398 - test_loss: 0.0390\n",
      "epoch: 23/100 - train_loss: 0.0370 - test_loss: 0.0368\n",
      "epoch: 24/100 - train_loss: 0.0355 - test_loss: 0.0347\n",
      "epoch: 25/100 - train_loss: 0.0327 - test_loss: 0.0327\n",
      "epoch: 26/100 - train_loss: 0.0317 - test_loss: 0.0309\n",
      "epoch: 27/100 - train_loss: 0.0293 - test_loss: 0.0289\n",
      "epoch: 28/100 - train_loss: 0.0274 - test_loss: 0.0274\n",
      "epoch: 29/100 - train_loss: 0.0253 - test_loss: 0.0263\n",
      "epoch: 30/100 - train_loss: 0.0259 - test_loss: 0.0252\n",
      "epoch: 31/100 - train_loss: 0.0247 - test_loss: 0.0245\n",
      "epoch: 32/100 - train_loss: 0.0233 - test_loss: 0.0238\n",
      "epoch: 33/100 - train_loss: 0.0227 - test_loss: 0.0233\n",
      "epoch: 34/100 - train_loss: 0.0238 - test_loss: 0.0231\n",
      "epoch: 35/100 - train_loss: 0.0228 - test_loss: 0.0228\n",
      "epoch: 36/100 - train_loss: 0.0215 - test_loss: 0.0226\n",
      "epoch: 37/100 - train_loss: 0.0235 - test_loss: 0.0225\n",
      "epoch: 38/100 - train_loss: 0.0222 - test_loss: 0.0224\n",
      "epoch: 39/100 - train_loss: 0.0219 - test_loss: 0.0222\n",
      "epoch: 40/100 - train_loss: 0.0224 - test_loss: 0.0222\n",
      "epoch: 41/100 - train_loss: 0.0211 - test_loss: 0.0220\n",
      "epoch: 42/100 - train_loss: 0.0219 - test_loss: 0.0222\n",
      "epoch: 43/100 - train_loss: 0.0227 - test_loss: 0.0219\n",
      "epoch: 44/100 - train_loss: 0.0216 - test_loss: 0.0218\n",
      "epoch: 45/100 - train_loss: 0.0221 - test_loss: 0.0219\n",
      "epoch: 46/100 - train_loss: 0.0208 - test_loss: 0.0219\n",
      "epoch: 47/100 - train_loss: 0.0211 - test_loss: 0.0218\n",
      "epoch: 48/100 - train_loss: 0.0212 - test_loss: 0.0217\n",
      "epoch: 49/100 - train_loss: 0.0212 - test_loss: 0.0217\n",
      "epoch: 50/100 - train_loss: 0.0215 - test_loss: 0.0218\n",
      "epoch: 51/100 - train_loss: 0.0219 - test_loss: 0.0217\n",
      "epoch: 52/100 - train_loss: 0.0211 - test_loss: 0.0218\n",
      "epoch: 53/100 - train_loss: 0.0218 - test_loss: 0.0217\n",
      "epoch: 54/100 - train_loss: 0.0215 - test_loss: 0.0216\n",
      "epoch: 55/100 - train_loss: 0.0212 - test_loss: 0.0216\n",
      "epoch: 56/100 - train_loss: 0.0219 - test_loss: 0.0217\n",
      "epoch: 57/100 - train_loss: 0.0209 - test_loss: 0.0216\n",
      "epoch: 58/100 - train_loss: 0.0204 - test_loss: 0.0216\n",
      "epoch: 59/100 - train_loss: 0.0215 - test_loss: 0.0216\n",
      "epoch: 60/100 - train_loss: 0.0205 - test_loss: 0.0215\n",
      "epoch: 61/100 - train_loss: 0.0206 - test_loss: 0.0216\n",
      "epoch: 62/100 - train_loss: 0.0208 - test_loss: 0.0216\n",
      "epoch: 63/100 - train_loss: 0.0212 - test_loss: 0.0215\n",
      "epoch: 64/100 - train_loss: 0.0213 - test_loss: 0.0216\n",
      "epoch: 65/100 - train_loss: 0.0207 - test_loss: 0.0214\n",
      "epoch: 66/100 - train_loss: 0.0211 - test_loss: 0.0215\n",
      "epoch: 67/100 - train_loss: 0.0209 - test_loss: 0.0216\n",
      "epoch: 68/100 - train_loss: 0.0207 - test_loss: 0.0215\n",
      "epoch: 69/100 - train_loss: 0.0210 - test_loss: 0.0215\n",
      "epoch: 70/100 - train_loss: 0.0213 - test_loss: 0.0214\n",
      "epoch: 71/100 - train_loss: 0.0212 - test_loss: 0.0215\n",
      "epoch: 72/100 - train_loss: 0.0216 - test_loss: 0.0214\n",
      "epoch: 73/100 - train_loss: 0.0207 - test_loss: 0.0215\n",
      "epoch: 74/100 - train_loss: 0.0205 - test_loss: 0.0216\n",
      "epoch: 75/100 - train_loss: 0.0212 - test_loss: 0.0214\n",
      "epoch: 76/100 - train_loss: 0.0205 - test_loss: 0.0214\n",
      "epoch: 77/100 - train_loss: 0.0205 - test_loss: 0.0214\n",
      "epoch: 78/100 - train_loss: 0.0209 - test_loss: 0.0214\n",
      "epoch: 79/100 - train_loss: 0.0216 - test_loss: 0.0215\n",
      "epoch: 80/100 - train_loss: 0.0212 - test_loss: 0.0214\n",
      "epoch: 81/100 - train_loss: 0.0206 - test_loss: 0.0213\n",
      "epoch: 82/100 - train_loss: 0.0215 - test_loss: 0.0215\n",
      "epoch: 83/100 - train_loss: 0.0208 - test_loss: 0.0213\n",
      "epoch: 84/100 - train_loss: 0.0217 - test_loss: 0.0214\n",
      "epoch: 85/100 - train_loss: 0.0216 - test_loss: 0.0214\n",
      "epoch: 86/100 - train_loss: 0.0212 - test_loss: 0.0214\n",
      "epoch: 87/100 - train_loss: 0.0212 - test_loss: 0.0214\n",
      "epoch: 88/100 - train_loss: 0.0211 - test_loss: 0.0214\n",
      "epoch: 89/100 - train_loss: 0.0215 - test_loss: 0.0214\n",
      "epoch: 90/100 - train_loss: 0.0213 - test_loss: 0.0214\n",
      "epoch: 91/100 - train_loss: 0.0215 - test_loss: 0.0214\n",
      "epoch: 92/100 - train_loss: 0.0200 - test_loss: 0.0214\n",
      "epoch: 93/100 - train_loss: 0.0206 - test_loss: 0.0214\n",
      "epoch: 94/100 - train_loss: 0.0198 - test_loss: 0.0214\n",
      "epoch: 95/100 - train_loss: 0.0210 - test_loss: 0.0214\n",
      "epoch: 96/100 - train_loss: 0.0203 - test_loss: 0.0213\n",
      "epoch: 97/100 - train_loss: 0.0205 - test_loss: 0.0214\n",
      "epoch: 98/100 - train_loss: 0.0207 - test_loss: 0.0214\n",
      "epoch: 99/100 - train_loss: 0.0216 - test_loss: 0.0214\n",
      "epoch: 100/100 - train_loss: 0.0209 - test_loss: 0.0214\n"
     ]
    }
   ],
   "source": [
    "net, optimizer = get_model(num_channel=2)\n",
    "\n",
    "train_dl, test_dl = get_data(\n",
    "    height=HEIGHT,\n",
    "    width=WIDTH,\n",
    "    num_channel=NUM_CHANNEL,\n",
    "    path=DATA_DIR,\n",
    "    size=8,\n",
    "    bs=10\n",
    ")\n",
    "\n",
    "fit(net, optimizer, train_dl, test_dl, epochs=100)"
   ]
  },
  {
   "cell_type": "code",
   "execution_count": 11,
   "metadata": {},
   "outputs": [],
   "source": [
    "for x, y in test_dl:\n",
    "    x_test, y_test = x, y\n",
    "\n",
    "decoded_imgs = net(x_test).detach().numpy().transpose(0, 2, 3, 1)  # Channel as last dimension\n",
    "x_test = x_test.detach().numpy().transpose(0, 2, 3, 1)\n",
    "y_test = y_test.detach().numpy().transpose(0, 2, 3, 1)"
   ]
  },
  {
   "cell_type": "code",
   "execution_count": 14,
   "metadata": {},
   "outputs": [
    {
     "data": {
      "image/png": "[encoded data removed]",
      "text/plain": [
       "<Figure size 720x216 with 4 Axes>"
      ]
     },
     "metadata": {
      "needs_background": "light"
     },
     "output_type": "display_data"
    }
   ],
   "source": [
    "idx = 2  # change index for differnet test image\n",
    "\n",
    "fig, axes = plt.subplots(figsize=((10, 3)), nrows=1, ncols=NUM_CHANNEL+2)\n",
    "\n",
    "# display input images\n",
    "for i, ax in enumerate(axes.flat[:NUM_CHANNEL]):\n",
    "    ax.imshow(x_test[idx][:, :, i].reshape(HEIGHT, WIDTH), cmap='gray')\n",
    "    ax.axis('off'), ax.set_title('step ' + str(i+1))\n",
    "    \n",
    "# display prediction\n",
    "axes[NUM_CHANNEL].imshow(decoded_imgs[idx][:, :, 0].reshape(HEIGHT, WIDTH), cmap='gray')\n",
    "axes[NUM_CHANNEL].axis('off'), axes[NUM_CHANNEL].set_title('predicted')\n",
    "\n",
    "# display target\n",
    "axes[NUM_CHANNEL+1].imshow(y_test[idx][:, :, 0].reshape(HEIGHT, WIDTH), cmap='gray')\n",
    "axes[NUM_CHANNEL+1].axis('off'), axes[NUM_CHANNEL+1].set_title('target')\n",
    "\n",
    "plt.show()"
   ]
  },
  {
   "cell_type": "code",
   "execution_count": null,
   "metadata": {},
   "outputs": [],
   "source": []
  }
 ],
 "metadata": {
  "kernelspec": {
   "display_name": "Python 3",
   "language": "python",
   "name": "python3"
  },
  "language_info": {
   "codemirror_mode": {
    "name": "ipython",
    "version": 3
   },
   "file_extension": ".py",
   "mimetype": "text/x-python",
   "name": "python",
   "nbconvert_exporter": "python",
   "pygments_lexer": "ipython3",
   "version": "3.6.7"
  }
 },
 "nbformat": 4,
 "nbformat_minor": 2
}
