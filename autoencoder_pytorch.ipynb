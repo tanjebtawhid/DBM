{
 "cells": [
  {
   "cell_type": "code",
   "execution_count": 1,
   "metadata": {},
   "outputs": [],
   "source": [
    "%matplotlib inline"
   ]
  },
  {
   "cell_type": "code",
   "execution_count": 2,
   "metadata": {},
   "outputs": [],
   "source": [
    "import os\n",
    "import torch\n",
    "import torch.nn as nn\n",
    "import torch.nn.functional as F\n",
    "import numpy as np\n",
    "import matplotlib.pyplot as plt\n",
    "\n",
    "from torch.utils.data import DataLoader, TensorDataset\n",
    "from torchsummary import summary\n",
    "from sklearn.model_selection import train_test_split\n",
    "\n",
    "from data_generator import DataGen"
   ]
  },
  {
   "cell_type": "code",
   "execution_count": 3,
   "metadata": {},
   "outputs": [],
   "source": [
    "class Autoencoder(nn.Module):\n",
    "\n",
    "    def __init__(self, num_channel):\n",
    "        super().__init__()\n",
    "        self.conv1 = nn.Conv2d(in_channels=num_channel, out_channels=16, kernel_size=3, stride=2, padding=1)\n",
    "        self.conv1_tr = nn.ConvTranspose2d(in_channels=16, out_channels=1, kernel_size=2, stride=2, padding=1)\n",
    "\n",
    "        self.conv2 = nn.Conv2d(16, 8, 3, stride=2, padding=1)\n",
    "        self.conv2_tr = nn.ConvTranspose2d(8, 16, 3, stride=2)\n",
    "\n",
    "        self.conv3 = nn.Conv2d(8, 8, 3, stride=2, padding=1)\n",
    "        self.conv3_tr = nn.ConvTranspose2d(8, 8, 3, stride=2)\n",
    "\n",
    "        self.conv4 = nn.Conv2d(8, 8, 2, stride=2, padding=1)\n",
    "        self.conv4_tr = nn.ConvTranspose2d(8, 8, 2, stride=2, padding=1)\n",
    "\n",
    "        self.fc1 = nn.Linear(8*7*7, 128)\n",
    "        self.fc1_tr = nn.Linear(128, 8*7*7)\n",
    "\n",
    "        self.fc2 = nn.Linear(128, 3)\n",
    "        self.fc2_tr = nn.Linear(3, 128)\n",
    "\n",
    "    def encoder(self, x):\n",
    "        x = F.relu(self.conv1(x))\n",
    "        x = F.relu(self.conv2(x))\n",
    "        x = F.relu(self.conv3(x))\n",
    "        x = F.relu(self.conv4(x))\n",
    "        x = x.view(-1, 8 * 7 * 7)\n",
    "        x = F.relu(self.fc1(x))\n",
    "        x = self.fc2(x)\n",
    "        return x\n",
    "\n",
    "    def decoder(self, x):\n",
    "        x = F.relu(self.fc2_tr(x))\n",
    "        x = F.relu(self.fc1_tr(x))\n",
    "        x = x.view(-1, 8, 7, 7)\n",
    "        x = F.relu(self.conv4_tr(x))\n",
    "        x = F.relu(self.conv3_tr(x))\n",
    "        x = F.relu(self.conv2_tr(x))\n",
    "        x = F.sigmoid(self.conv1_tr(x))\n",
    "        return x\n",
    "\n",
    "    def forward(self, x):\n",
    "        x = self.encoder(x)\n",
    "        x = self.decoder(x)\n",
    "        return x"
   ]
  },
  {
   "cell_type": "code",
   "execution_count": 4,
   "metadata": {},
   "outputs": [],
   "source": [
    "def get_model(num_channel):\n",
    "    net = Autoencoder(num_channel=num_channel)\n",
    "    optimizer = torch.optim.Adam(net.parameters(), lr=0.001)\n",
    "    return net, optimizer"
   ]
  },
  {
   "cell_type": "code",
   "execution_count": 5,
   "metadata": {},
   "outputs": [],
   "source": [
    "def fit(net, optimizer, train_dl, test_dl, epochs=5):\n",
    "    loss_function = nn.BCELoss()\n",
    "    for epoch in range(epochs):\n",
    "        net.train()\n",
    "        for x, y in train_dl:\n",
    "            pred = net(x)\n",
    "            loss = loss_function(pred, y)\n",
    "\n",
    "            optimizer.zero_grad()\n",
    "            loss.backward()\n",
    "            optimizer.step()\n",
    "\n",
    "        net.eval()\n",
    "        with torch.no_grad():\n",
    "            test_loss = sum(loss_function(net(x), y) for x, y in test_dl)\n",
    "        print('epoch:{}, test_loss:{}'.format(epoch + 1, test_loss / len(test_dl)))"
   ]
  },
  {
   "cell_type": "code",
   "execution_count": 6,
   "metadata": {},
   "outputs": [],
   "source": [
    "def to_tensor(x):\n",
    "    return torch.from_numpy(x).float()\n",
    "\n",
    "\n",
    "def get_data(height, width, num_channel, path, size, bs):\n",
    "    dgen = DataGen(height, width, num_channel)\n",
    "    x, y = dgen.get_data(path, False, size, True)\n",
    "    print('Data loaded...\\nx:{}\\ty:{}\\n'.format(x.shape, y.shape))\n",
    "\n",
    "    x = x / 255.\n",
    "    y = y / 255.\n",
    "\n",
    "    x_train, x_test, y_train, y_test = train_test_split(x, y, test_size=0.1, shuffle=True)\n",
    "    x_train, x_test, y_train, y_test = map(to_tensor, (x_train, x_test, y_train, y_test))\n",
    "\n",
    "    train_ds = TensorDataset(x_train, y_train)\n",
    "    train_dl = DataLoader(train_ds, batch_size=bs, shuffle=True)\n",
    "\n",
    "    test_ds = TensorDataset(x_test, y_test)\n",
    "    test_dl = DataLoader(test_ds, batch_size=bs)\n",
    "    return train_dl, test_dl"
   ]
  },
  {
   "cell_type": "code",
   "execution_count": 7,
   "metadata": {},
   "outputs": [],
   "source": [
    "DATA_DIR = './data/data_simple_movement/'\n",
    "HEIGHT = 100\n",
    "WIDTH = 100\n",
    "NUM_CHANNEL = 2"
   ]
  },
  {
   "cell_type": "code",
   "execution_count": 8,
   "metadata": {},
   "outputs": [
    {
     "name": "stdout",
     "output_type": "stream",
     "text": [
      "Data loaded...\n",
      "x:(96, 2, 100, 100)\ty:(96, 1, 100, 100)\n",
      "\n"
     ]
    },
    {
     "name": "stderr",
     "output_type": "stream",
     "text": [
      "C:\\Users\\ttanj\\Miniconda3\\envs\\dl\\lib\\site-packages\\torch\\nn\\functional.py:1332: UserWarning: nn.functional.sigmoid is deprecated. Use torch.sigmoid instead.\n",
      "  warnings.warn(\"nn.functional.sigmoid is deprecated. Use torch.sigmoid instead.\")\n"
     ]
    },
    {
     "name": "stdout",
     "output_type": "stream",
     "text": [
      "epoch:1, test_loss:0.48556074500083923\n",
      "epoch:2, test_loss:0.475492924451828\n",
      "epoch:3, test_loss:0.46125778555870056\n",
      "epoch:4, test_loss:0.37063050270080566\n",
      "epoch:5, test_loss:0.25816962122917175\n",
      "epoch:6, test_loss:0.17926205694675446\n",
      "epoch:7, test_loss:0.14695478975772858\n",
      "epoch:8, test_loss:0.12991338968276978\n",
      "epoch:9, test_loss:0.11862830072641373\n",
      "epoch:10, test_loss:0.10825860500335693\n",
      "epoch:11, test_loss:0.09778434783220291\n",
      "epoch:12, test_loss:0.08824294805526733\n",
      "epoch:13, test_loss:0.07982528954744339\n",
      "epoch:14, test_loss:0.07294132560491562\n",
      "epoch:15, test_loss:0.06740640848875046\n",
      "epoch:16, test_loss:0.06290412694215775\n",
      "epoch:17, test_loss:0.05873696133494377\n",
      "epoch:18, test_loss:0.054826147854328156\n",
      "epoch:19, test_loss:0.051245223730802536\n",
      "epoch:20, test_loss:0.048131875693798065\n",
      "epoch:21, test_loss:0.04522063583135605\n",
      "epoch:22, test_loss:0.0425882413983345\n",
      "epoch:23, test_loss:0.040303491055965424\n",
      "epoch:24, test_loss:0.03830146789550781\n",
      "epoch:25, test_loss:0.0362946093082428\n",
      "epoch:26, test_loss:0.03477482497692108\n",
      "epoch:27, test_loss:0.03336762636899948\n",
      "epoch:28, test_loss:0.032228294759988785\n",
      "epoch:29, test_loss:0.03133157640695572\n",
      "epoch:30, test_loss:0.030459921807050705\n",
      "epoch:31, test_loss:0.029720883816480637\n",
      "epoch:32, test_loss:0.029010413214564323\n",
      "epoch:33, test_loss:0.028257008641958237\n",
      "epoch:34, test_loss:0.02754393219947815\n",
      "epoch:35, test_loss:0.0267981868237257\n",
      "epoch:36, test_loss:0.026171324774622917\n",
      "epoch:37, test_loss:0.02551202103495598\n",
      "epoch:38, test_loss:0.02489733323454857\n",
      "epoch:39, test_loss:0.024424809962511063\n",
      "epoch:40, test_loss:0.024040380492806435\n",
      "epoch:41, test_loss:0.02368556708097458\n",
      "epoch:42, test_loss:0.023402351886034012\n",
      "epoch:43, test_loss:0.023176755756139755\n",
      "epoch:44, test_loss:0.022999491542577744\n",
      "epoch:45, test_loss:0.02276291511952877\n",
      "epoch:46, test_loss:0.022580211982131004\n",
      "epoch:47, test_loss:0.02242448180913925\n",
      "epoch:48, test_loss:0.022346537560224533\n",
      "epoch:49, test_loss:0.022209888324141502\n",
      "epoch:50, test_loss:0.022127240896224976\n",
      "epoch:51, test_loss:0.022026613354682922\n",
      "epoch:52, test_loss:0.021973054856061935\n",
      "epoch:53, test_loss:0.02193044126033783\n",
      "epoch:54, test_loss:0.021838165819644928\n",
      "epoch:55, test_loss:0.02179105021059513\n",
      "epoch:56, test_loss:0.02180611342191696\n",
      "epoch:57, test_loss:0.02172132395207882\n",
      "epoch:58, test_loss:0.021704716607928276\n",
      "epoch:59, test_loss:0.021618695929646492\n",
      "epoch:60, test_loss:0.021647006273269653\n",
      "epoch:61, test_loss:0.02163694053888321\n",
      "epoch:62, test_loss:0.021597404032945633\n",
      "epoch:63, test_loss:0.02155490778386593\n",
      "epoch:64, test_loss:0.021530624479055405\n",
      "epoch:65, test_loss:0.02156558260321617\n",
      "epoch:66, test_loss:0.02150793932378292\n",
      "epoch:67, test_loss:0.02147652395069599\n",
      "epoch:68, test_loss:0.021422160789370537\n",
      "epoch:69, test_loss:0.021423840895295143\n",
      "epoch:70, test_loss:0.02135920710861683\n",
      "epoch:71, test_loss:0.021400878205895424\n",
      "epoch:72, test_loss:0.02136792242527008\n",
      "epoch:73, test_loss:0.021327128633856773\n",
      "epoch:74, test_loss:0.021305754780769348\n",
      "epoch:75, test_loss:0.0213022418320179\n",
      "epoch:76, test_loss:0.0212988443672657\n",
      "epoch:77, test_loss:0.021273180842399597\n",
      "epoch:78, test_loss:0.021319786086678505\n",
      "epoch:79, test_loss:0.02127261459827423\n",
      "epoch:80, test_loss:0.02124735154211521\n",
      "epoch:81, test_loss:0.021230563521385193\n",
      "epoch:82, test_loss:0.021184297278523445\n",
      "epoch:83, test_loss:0.021213866770267487\n",
      "epoch:84, test_loss:0.021197805181145668\n",
      "epoch:85, test_loss:0.02119901403784752\n",
      "epoch:86, test_loss:0.02118908241391182\n",
      "epoch:87, test_loss:0.021168308332562447\n",
      "epoch:88, test_loss:0.021163230761885643\n",
      "epoch:89, test_loss:0.021170493215322495\n",
      "epoch:90, test_loss:0.021143635734915733\n",
      "epoch:91, test_loss:0.021110689267516136\n",
      "epoch:92, test_loss:0.02108997106552124\n",
      "epoch:93, test_loss:0.021158285439014435\n",
      "epoch:94, test_loss:0.02106725051999092\n",
      "epoch:95, test_loss:0.021097399294376373\n",
      "epoch:96, test_loss:0.021081343293190002\n",
      "epoch:97, test_loss:0.021096618846058846\n",
      "epoch:98, test_loss:0.02108357846736908\n",
      "epoch:99, test_loss:0.021091435104608536\n",
      "epoch:100, test_loss:0.021046528592705727\n"
     ]
    }
   ],
   "source": [
    "net, optimizer = get_model(num_channel=2)\n",
    "\n",
    "train_dl, test_dl = get_data(\n",
    "    height=HEIGHT,\n",
    "    width=WIDTH,\n",
    "    num_channel=NUM_CHANNEL,\n",
    "    path=DATA_DIR,\n",
    "    size=8,\n",
    "    bs=10\n",
    ")\n",
    "\n",
    "fit(net, optimizer, train_dl, test_dl, epochs=100)"
   ]
  },
  {
   "cell_type": "code",
   "execution_count": 9,
   "metadata": {},
   "outputs": [],
   "source": [
    "for x, y in test_dl:\n",
    "    x_test, y_test = x, y\n",
    "    \n",
    "decoded_imgs = net(x_test).detach().numpy().transpose(0, 2, 3, 1)\n",
    "x_test = x_test.detach().numpy().transpose(0, 2, 3, 1)\n",
    "y_test = y_test.detach().numpy().transpose(0, 2, 3, 1)"
   ]
  },
  {
   "cell_type": "code",
   "execution_count": 11,
   "metadata": {},
   "outputs": [
    {
     "data": {
      "image/png": "[encoded data removed]",
      "text/plain": [
       "<Figure size 720x216 with 4 Axes>"
      ]
     },
     "metadata": {
      "needs_background": "light"
     },
     "output_type": "display_data"
    }
   ],
   "source": [
    "idx = 0\n",
    "\n",
    "fig, axes = plt.subplots(figsize=((10, 3)), nrows=1, ncols=NUM_CHANNEL+2)\n",
    "\n",
    "# display input images\n",
    "for i, ax in enumerate(axes.flat[:NUM_CHANNEL]):\n",
    "    ax.imshow(x_test[idx][:, :, i].reshape(HEIGHT, WIDTH), cmap='gray')\n",
    "    ax.axis('off'), ax.set_title('step ' + str(i+1))\n",
    "    \n",
    "# display prediction\n",
    "axes[NUM_CHANNEL].imshow(decoded_imgs[idx][:, :, 0].reshape(HEIGHT, WIDTH), cmap='gray')\n",
    "axes[NUM_CHANNEL].axis('off'), axes[NUM_CHANNEL].set_title('predicted')\n",
    "\n",
    "# display target\n",
    "axes[NUM_CHANNEL+1].imshow(y_test[idx][:, :, 0].reshape(HEIGHT, WIDTH), cmap='gray')\n",
    "axes[NUM_CHANNEL+1].axis('off'), axes[NUM_CHANNEL+1].set_title('target')\n",
    "\n",
    "plt.show()"
   ]
  },
  {
   "cell_type": "code",
   "execution_count": null,
   "metadata": {},
   "outputs": [],
   "source": []
  }
 ],
 "metadata": {
  "kernelspec": {
   "display_name": "Python 3",
   "language": "python",
   "name": "python3"
  },
  "language_info": {
   "codemirror_mode": {
    "name": "ipython",
    "version": 3
   },
   "file_extension": ".py",
   "mimetype": "text/x-python",
   "name": "python",
   "nbconvert_exporter": "python",
   "pygments_lexer": "ipython3",
   "version": "3.6.7"
  }
 },
 "nbformat": 4,
 "nbformat_minor": 2
}
